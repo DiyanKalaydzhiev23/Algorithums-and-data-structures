{
 "cells": [
  {
   "cell_type": "code",
   "execution_count": 1,
   "outputs": [],
   "source": [
    "# Python Algorithms"
   ],
   "metadata": {
    "collapsed": false,
    "pycharm": {
     "name": "#%%\n"
    }
   }
  },
  {
   "cell_type": "markdown",
   "metadata": {
    "pycharm": {
     "name": "#%% md\n"
    }
   },
   "source": [
    "## 1. Searching Algorithms\n",
    "\n",
    "### 1.1. Linear Search\n",
    "<p> Linear search finds a particular value in a list </p>\n",
    "<p>Checking every one of the elements one at a time, in sequence until the desired one is found </p>\n",
    "<p>Worst & average performance: O(n) </p>"
   ]
  },
  {
   "cell_type": "code",
   "execution_count": 2,
   "metadata": {
    "pycharm": {
     "name": "#%%\n"
    }
   },
   "outputs": [
    {
     "name": "stdout",
     "output_type": "stream",
     "text": [
      "1\n"
     ]
    }
   ],
   "source": [
    "items = [5, 2, 8, 9, 1, 6, 4]\n",
    "desired_value = 1\n",
    "for item in items:\n",
    "    if item == desired_value:\n",
    "        print(item)\n",
    "        break\n",
    "else:\n",
    "    print('Item not found')\n"
   ]
  },
  {
   "attachments": {},
   "cell_type": "markdown",
   "metadata": {
    "pycharm": {
     "name": "#%% md\n"
    }
   },
   "source": [
    "### 1.2. Binary Search\n",
    "<p> Binary search finds an item within an ordered data structure </p>\n",
    "<p>At each step, compare the input with the middle element </p>\n",
    "<p>The algorithm repeats its action to the left or right sub-structure </p>\n",
    "<p>Average performance: O(log(n)) </p>"
   ]
  },
  {
   "cell_type": "code",
   "execution_count": 3,
   "metadata": {
    "pycharm": {
     "name": "#%%\n"
    }
   },
   "outputs": [],
   "source": [
    "def binary_search(numbers, target):\n",
    "    left = 0\n",
    "    right = len(numbers) - 1\n",
    "    while left <= right:\n",
    "        mid_idx = (left + right) // 2\n",
    "        mid_el = numbers[mid_idx]\n",
    "        if mid_el == target:\n",
    "            return mid_idx\n",
    "        if mid_el < target:\n",
    "            left = mid_idx + 1\n",
    "        else:\n",
    "            right = mid_idx - 1\n",
    "    return -1"
   ]
  },
  {
   "attachments": {},
   "cell_type": "markdown",
   "metadata": {
    "pycharm": {
     "name": "#%% md\n"
    }
   },
   "source": [
    "## 2. Sorting Algorithms\n",
    "\n",
    "### 2.1. Selection Sort\n",
    "<p>Simple, but inefficient algorithm </p>\n",
    "<p>Swap the first with the min element on the right, then the second, etc.</p>\n",
    "<p>Memory: O(1)</p>\n",
    "<p>Time: O(n2)</p>\n",
    "<p>Stable: No</p>\n",
    "<p>Method: Selection</p>"
   ]
  },
  {
   "cell_type": "code",
   "execution_count": 4,
   "metadata": {
    "pycharm": {
     "name": "#%%\n"
    }
   },
   "outputs": [
    {
     "name": "stdout",
     "output_type": "stream",
     "text": [
      "[1, 2, 4, 5, 6, 8, 9]\n"
     ]
    }
   ],
   "source": [
    "nums = [5, 2, 8, 9, 1, 6, 4]\n",
    "for idx in range(len(nums)):\n",
    "    min_idx = idx\n",
    "    for curr_idx in range(idx + 1, len(nums)):\n",
    "        if nums[curr_idx] < nums[min_idx]:\n",
    "            min_idx = curr_idx\n",
    "    nums[idx], nums[min_idx] = nums[min_idx], nums[idx]\n",
    "print(nums)"
   ]
  },
  {
   "attachments": {},
   "cell_type": "markdown",
   "metadata": {
    "pycharm": {
     "name": "#%% md\n"
    }
   },
   "source": [
    "### 2.2 Bubble sort\n",
    "<p>Simple, but inefficient algorithm</p>\n",
    "<p>Swaps to neighbor elements when not in order until sorted</p>\n",
    "<p>Memory: O(1)</p>\n",
    "<p>Time: O(n2)</p>\n",
    "<p>Stable: Yes</p>\n",
    "<p>Method: Exchanging!</p>"
   ]
  },
  {
   "cell_type": "code",
   "execution_count": 5,
   "metadata": {
    "pycharm": {
     "name": "#%%\n"
    }
   },
   "outputs": [
    {
     "name": "stdout",
     "output_type": "stream",
     "text": [
      "[1, 2, 3, 4, 5, 6]\n"
     ]
    }
   ],
   "source": [
    "nums = [1, 3, 4, 2, 5, 6]\n",
    "is_sorted = False\n",
    "i = 0\n",
    "while not is_sorted:\n",
    "    is_sorted = True\n",
    "    for j in range(1, len(nums) - i):\n",
    "        if nums[j - 1] > nums[j]:\n",
    "            nums[j], nums[j - 1] = nums[j - 1], nums[j]\n",
    "            is_sorted = False\n",
    "    i += 1\n",
    "print(nums)"
   ]
  },
  {
   "attachments": {},
   "cell_type": "markdown",
   "metadata": {
    "pycharm": {
     "name": "#%% md\n"
    }
   },
   "source": [
    "### 2.3 Insertion Sort\n",
    "<p>Simple, but inefficient algorithm</p>\n",
    "<p>Move the first unsorted element left to its place</p>\n",
    "<p>Memory: O(1)</p>\n",
    "<p>Time: O(n2)</p>\n",
    "<p>Stable: Yes</p>\n",
    "<p>Method: Insertion</p>"
   ]
  },
  {
   "cell_type": "code",
   "execution_count": 6,
   "metadata": {
    "pycharm": {
     "name": "#%%\n"
    }
   },
   "outputs": [
    {
     "name": "stdout",
     "output_type": "stream",
     "text": [
      "[1, 2, 3, 4, 5, 6]\n"
     ]
    }
   ],
   "source": [
    "nums = [1, 3, 4, 2, 5, 6]\n",
    "for i in range(len(nums)):\n",
    "    j = i\n",
    "    while j > 0 and nums[j] < nums[j - 1]:\n",
    "        nums[j], nums[j - 1] = nums[j - 1], nums[j]\n",
    "        j -= 1\n",
    "print(nums)"
   ]
  },
  {
   "attachments": {},
   "cell_type": "markdown",
   "metadata": {
    "pycharm": {
     "name": "#%% md\n"
    }
   },
   "source": [
    "## 3.Advanced Sorting Algorithms\n",
    "### 3.1.QuickSort\n",
    "<p>Efficient sorting algorithm</p>\n",
    "<p>Choose a pivot; move smaller elements left & larger right; sort left & right</p>\n",
    "<p>Memory: O(log(n)) stack space (recursion)</p>\n",
    "<p>Time: O(n2)</p>\n",
    "<p>When the pivot element divides the array into two unbalanced sub-arrays (huge difference in size)</p>\n",
    "<p>Stable: Depends</p>\n",
    "<p>Method: Partitioning</p>"
   ]
  },
  {
   "cell_type": "code",
   "execution_count": 7,
   "metadata": {
    "pycharm": {
     "name": "#%%\n"
    }
   },
   "outputs": [
    {
     "name": "stdout",
     "output_type": "stream",
     "text": [
      "[1, 2, 3, 4, 5, 6]\n"
     ]
    }
   ],
   "source": [
    "def quick_sort(nums, start, end):\n",
    "    if start >= end:\n",
    "        return\n",
    "    pivot, left, right = start, start + 1, end\n",
    "    while left <= right:\n",
    "        if nums[left] > nums[pivot] > nums[right]:\n",
    "            nums[left], nums[right] = nums[right], nums[left]\n",
    "        if nums[left] <= nums[pivot]:\n",
    "            left += 1\n",
    "        if nums[right] >= nums[pivot]:\n",
    "            right -= 1\n",
    "    nums[pivot], nums[right] = nums[right], nums[pivot]\n",
    "    quick_sort(nums, start, right - 1)\n",
    "    quick_sort(nums, right + 1, end)\n",
    "\n",
    "nums = [1, 3, 4, 2, 5, 6]\n",
    "quick_sort(nums, 0, len(nums) - 1)\n",
    "print(nums)"
   ]
  },
  {
   "attachments": {},
   "cell_type": "markdown",
   "metadata": {
    "pycharm": {
     "name": "#%% md\n"
    }
   },
   "source": [
    "### 3.2. Merge sort\n",
    "<p>Efficient sorting algorithm</p>\n",
    "<p>Divide the list into sub-lists (typically 2 sub-lists)</p>\n",
    "<p>Sort each sub-list (recursively call merge-sort)</p>\n",
    "<p>Merge the sorted sub-lists into a single list</p>\n",
    "<p>Memory: O(n) / O(n*log(n))</p>\n",
    "<p>Time: O(n*log(n))</p>\n",
    "<p>Highly parallelizable on multiple cores / machines up to O(log(n))</p>"
   ]
  },
  {
   "cell_type": "code",
   "execution_count": 8,
   "metadata": {
    "pycharm": {
     "name": "#%%\n"
    }
   },
   "outputs": [
    {
     "name": "stdout",
     "output_type": "stream",
     "text": [
      "1 2 3 4 5 6\n"
     ]
    }
   ],
   "source": [
    "def merge_arrays(left, right):\n",
    "    sorted_arr = []\n",
    "    left_idx, right_idx = 0, 0\n",
    "    while left_idx < len(left) and right_idx < len(right):\n",
    "        if left[left_idx] < right[right_idx]:\n",
    "            sorted_arr.append(left[left_idx])\n",
    "            left_idx += 1\n",
    "        else:\n",
    "            sorted_arr.append(right[right_idx])\n",
    "            right_idx += 1\n",
    "\n",
    "    while left_idx < len(left):\n",
    "        sorted_arr.append(left[left_idx])\n",
    "        left_idx += 1\n",
    "\n",
    "    while right_idx < len(right):\n",
    "        sorted_arr.append(right[right_idx])\n",
    "        right_idx += 1\n",
    "\n",
    "    return sorted_arr\n",
    "\n",
    "\n",
    "def merge_sort(nums):\n",
    "    if len(nums) == 1:\n",
    "        return nums\n",
    "    mid_idx = len(nums) // 2\n",
    "    left_half = nums[:mid_idx]\n",
    "    right_half = nums[mid_idx:]\n",
    "    return merge_arrays(merge_sort(left_half), merge_sort(right_half))\n",
    "\n",
    "\n",
    "nums = [1, 3, 4, 2, 5, 6]\n",
    "\n",
    "sorted_nums = merge_sort(nums)\n",
    "print(*sorted_nums, sep=' ')"
   ]
  },
  {
   "attachments": {},
   "cell_type": "markdown",
   "metadata": {
    "pycharm": {
     "name": "#%% md\n"
    }
   },
   "source": []
  }
 ],
 "metadata": {
  "kernelspec": {
   "display_name": "Python 3 (ipykernel)",
   "language": "python",
   "name": "python3"
  },
  "language_info": {
   "codemirror_mode": {
    "name": "ipython",
    "version": 3
   },
   "file_extension": ".py",
   "mimetype": "text/x-python",
   "name": "python",
   "nbconvert_exporter": "python",
   "pygments_lexer": "ipython3",
   "version": "3.10.4"
  }
 },
 "nbformat": 4,
 "nbformat_minor": 1
}